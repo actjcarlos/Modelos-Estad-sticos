{
 "cells": [
  {
   "cell_type": "markdown",
   "id": "203cc7e2",
   "metadata": {},
   "source": [
    "# Integrantes:\n",
    "- Aldama Tyler Kenneth.\n",
    "- Ávila Guzmán Cesar Enrique.\n",
    "- Belmont Valderrama Alejandra.\n",
    "- Bobadilla Muciño Carlos Alberto.\n",
    "- Ramirez Romero Juan Carlos."
   ]
  },
  {
   "cell_type": "code",
   "execution_count": 25,
   "id": "db0ce918",
   "metadata": {},
   "outputs": [],
   "source": [
    "import numpy as np # Imporrtamos Numpy\n",
    "import numpy.random as npr # Para generar números aleatorios\n",
    "\n",
    "import scipy.stats as sps # Paqueterías estadísticas\n",
    "from scipy.stats import randint #Para trabajar una uniforme discreta en un rango de enteros\n",
    "# Para visualizar\n",
    "\n",
    "import matplotlib.pyplot as plt # Para visualizar datos\n",
    "\n",
    "import random #para generar números aleatorios\n",
    "from scipy.stats import poisson\n",
    "from scipy.stats import hypergeom\n",
    "from math import comb"
   ]
  },
  {
   "cell_type": "markdown",
   "id": "ae05e205",
   "metadata": {},
   "source": [
    "$\\color{red}{\\text{Ejercicio 1.}}$ Calcular la esperanza y varianza.    "
   ]
  },
  {
   "cell_type": "markdown",
   "id": "8def6b9c",
   "metadata": {},
   "source": [
    "Supongamos que $\\mathbb{X}$ es una v.a. discreta con distribución uniforme en el conjunto $\\{x_1,...,x_n\\} \\in \\mathbb{Z}_{+}$ y ${x_1 \\leq x_n}$.\n",
    "\n",
    "Entonces, la esperanza y varianza de $X$ están dados por:\n",
    "\\begin{align*}\n",
    "\\mathbb{E}[X]& = \\sum_{k=x_1}^{x_n}k\\left(\\mathbb{P}{(X=k)}\\right) \\\\\n",
    "             & = \\sum_{k=x_1}^{x_n}k\\left(\\frac{1}{n}\\right) \\\\\n",
    "             & = \\frac{1}{n} \\sum_{k=x_1}^{x_n}k\\\\\n",
    "\\end{align*}\n",
    "\n",
    "dado a que $\\sum_{k=x_1}^{x_n}k = \\frac{n}{2} (x_n+x_1)$\n",
    "\n",
    "sustituyendo en la expresión $\\mathbb{E}[X]:$\n",
    "\n",
    "\\begin{align*}\n",
    "\\mathbb{E}[X]& = \\frac{1}{n} \\frac{n}{2} (x_n+x_1)\\\\\n",
    "             & = \\frac{x_n+x_1}{2} \\\\\n",
    "\\end{align*}\n",
    "\n",
    "\n"
   ]
  },
  {
   "cell_type": "markdown",
   "id": "12bdd55a",
   "metadata": {},
   "source": [
    "La varianza se define como:\n",
    "\\begin{equation}\n",
    "    \\text{Var}(X) = E[X^2] - (E[X])^2\n",
    "\\end{equation}\n",
    "\n",
    "Primero, calculamos $E[X^2]$:\n",
    "\\begin{equation}\n",
    "    E[X^2] = \\sum_{k=x_1}^{x_n} k^2 P(X = k)\n",
    "\\end{equation}\n",
    "\n",
    "Sustituyendo $P(X = k)$:\n",
    "\\begin{equation}\n",
    "    E[X^2] = \\sum_{k=x_1}^{x_n} k^2 \\frac{1}{x_n-x_1+1}\n",
    "\\end{equation}\n",
    "\n",
    "Factorizando la constante:\n",
    "\\begin{equation}\n",
    "    E[X^2] = \\frac{1}{x_n-x_1+1} \\sum_{k=x_1}^{x_n} k^2\n",
    "\\end{equation}\n",
    "\n",
    "La suma de cuadrados de una secuencia aritmética se expresa como:\n",
    "\\begin{equation}\n",
    "    \\sum_{k=x_1}^{x_n} k^2 = \\frac{(x_n-x_1+1)(x_n+x_1)(2x_n+2x_1+1)}{6}\n",
    "\\end{equation}\n",
    "\n",
    "Sustituyendo en la ecuación de $E[X^2]$:\n",
    "\\begin{equation}\n",
    "    E[X^2] = \\frac{1}{x_n-x_1+1} \\times \\frac{(x_n-x_1+1)(x_n+x_1)(2x_n+2x_1+1)}{6}\n",
    "\\end{equation}\n",
    "\n",
    "Cancelando términos:\n",
    "\\begin{equation}\n",
    "    E[X^2] = \\frac{(x_n+x_1)(2x_n+2x_1+1)}{6}\n",
    "\\end{equation}\n",
    "\n",
    "Ahora calculamos la varianza:\n",
    "\\begin{equation}\n",
    "    \\text{Var}(X) = \\frac{(x_n+x_1)(2x_n+2x_1+1)}{6} - \\left(\\frac{x_1+x_n}{2}\\right)^2\n",
    "\\end{equation}\n",
    "\n",
    "Desarrollando el cuadrado:\n",
    "\\begin{equation}\n",
    "    \\left(\\frac{x_1+x_n}{2}\\right)^2 = \\frac{(x_1+x_n)^2}{4}\n",
    "\\end{equation}\n",
    "\n",
    "Sustituyendo en la ecuación de varianza:\n",
    "\\begin{equation}\n",
    "    \\text{Var}(X) = \\frac{(x_n+x_1)(2x_n+2x_1+1)}{6} - \\frac{(x_1+x_n)^2}{4}\n",
    "\\end{equation}\n",
    "\n",
    "Tomando un denominador común de 12:\n",
    "\\begin{equation}\n",
    "    \\text{Var}(X) = \\frac{2(x_n+x_1)(2x_n+2x_1+1)}{12} - \\frac{3(x_1+x_n)^2}{12}\n",
    "\\end{equation}\n",
    "\n",
    "Expandiendo términos:\n",
    "\\begin{equation}\n",
    "    \\text{Var}(X) = \\frac{4x_n^2 + 8x_nx_1 + 4x_1^2 + 2x_n + 2x_1 - 3x_1^2 - 6x_nx_1 - 3x_n^2}{12}\n",
    "\\end{equation}\n",
    "\n",
    "Simplificando:\n",
    "\\begin{equation}\n",
    "    \\text{Var}(X) = \\frac{x_n^2 - 2x_nx_1 + x_1^2 + x_n + x_1}{12}\n",
    "\\end{equation}\n",
    "\n",
    "Factorizando:\n",
    "\\begin{equation}\n",
    "    \\text{Var}(X) = \\frac{(x_n-x_1+1)^2 - 1}{12}\n",
    "\\end{equation}"
   ]
  },
  {
   "cell_type": "markdown",
   "id": "0dfa5d68",
   "metadata": {},
   "source": [
    "$\\color{red}{\\text{Ejercicio 2.}}$ Calcular la esperanza y varianza.    \n",
    "**Ejemplo** Se lleva a cabo una rifa donde los boletos están enumerados del $00$ al $99$. Si $Y$ es la variable aleatoria definida como el número del boleto ganador, entonces:  \n",
    "$$\\mathbb{P}(Y=k)=\\begin{cases}\n",
    "\t\\frac{1}{100} &\\quad \\text{si } k=00,01,\\dots,99 \\\\\n",
    "\t0 &\\quad \\text{en otro caso}\n",
    "\\end{cases}$$\n",
    "Consideremos que el premio de la rifa se determina a partir del número premiado de la siguiente forma: $X=Y+1$, donde $X$ es el monto del premio en pesos y $Y$ es el número premiado, entonces $X$ es una variable aleatoria, pues es una función de $Y$, y además se tiene\n",
    "\t$$f_{X}(k)=\\begin{cases}\n",
    "\t\t\\frac{1}{100} &\\quad \\text{si } x=1,2,\\dots,100 \\\\\n",
    "\t\t0 &\\quad \\text{en otro caso}\n",
    "\t\\end{cases}$$\n",
    "  $$ \\mathbb{E}(X) = \\sum_{k=00}^{99} X \\frac {1}{100}$$"
   ]
  },
  {
   "cell_type": "code",
   "execution_count": 7,
   "id": "ecb0dda1",
   "metadata": {},
   "outputs": [
    {
     "name": "stdout",
     "output_type": "stream",
     "text": [
      "La esperanza es = 50.5\n",
      "La varianza es = 8.416666666666666\n"
     ]
    }
   ],
   "source": [
    "xn=100\n",
    "x1=1\n",
    "esperanza=(xn+x1)/2\n",
    "varianza= ((xn-x1+1)^2-1)/12\n",
    "print('La esperanza es =',esperanza)\n",
    "print('La varianza es =',varianza)"
   ]
  },
  {
   "cell_type": "markdown",
   "id": "d2683b46",
   "metadata": {},
   "source": [
    "$\\color{red}{\\text{Ejercicio 3.}}$ Usando el atributo `.cdf` [Poisson](https://docs.scipy.org/doc/scipy/reference/generated/scipy.stats.poisson.html) calcula las probabilidades anteriores.  \n",
    "**Ejemplo** Supongamos que el número de accidentes que ocurre en un punto en un día tiene distribución Poisson con parámetro $\\lambda=2$.  \n",
    "- ¿cuál es la probabilidad de que en un día ocurran más de dos accidentes?\n",
    "- ¿cuál es la probabilidad de que ocurran más de dos accidentes sabiendo que por lo menos ocurre uno?"
   ]
  },
  {
   "cell_type": "code",
   "execution_count": 17,
   "id": "791ed785",
   "metadata": {},
   "outputs": [
    {
     "name": "stdout",
     "output_type": "stream",
     "text": [
      "La probabilidad de que ocurran mas de dos accidentes es: 0.3233235838169366\n",
      "La probabilidad de que ocurran dos accidentes sabiendo que por lo menos ocurre uno 0.37392942900133747\n"
     ]
    }
   ],
   "source": [
    "lambda_p=2\n",
    "\n",
    "#Probabilidad X>2\n",
    "proba1 = 1 - poisson.cdf(2, lambda_p)\n",
    "\n",
    "#Probabilidad de que ocurre por lo menos un accidente\n",
    "proba2 = 1 - poisson.cdf(0, lambda_p)\n",
    "\n",
    "proba3=proba1/proba2\n",
    "\n",
    "print ('La probabilidad de que ocurran mas de dos accidentes es:', proba1)\n",
    "print ('La probabilidad de que ocurran dos accidentes sabiendo que por lo menos ocurre uno', proba3)"
   ]
  },
  {
   "cell_type": "markdown",
   "id": "ba6799dc",
   "metadata": {},
   "source": [
    "$\\color{red}{\\text{Ejercicio 4.}}$ Un examen de Estadística consta de 20 preguntas tipo test y se conoce de experiencias\n",
    "anteriores que un alumno tiene probabilidad 0.7 de contestar bien cada pregunta. Obtener:\n",
    "\n",
    "a) La probabilidad de que la primera pregunta que contesta bien sea la cuarta.\n",
    "\n",
    "b) Sabiendo que para aprobar el examen es necesario contestar bien a 10 preguntas, ¿cuál es la probabilidad de que apruebe al contestar la pregunta duodécima?"
   ]
  },
  {
   "cell_type": "code",
   "execution_count": 24,
   "id": "cee920d8",
   "metadata": {},
   "outputs": [
    {
     "name": "stdout",
     "output_type": "stream",
     "text": [
      "a) La probabilidad de que la primera pregunta correcta sea la cuarta es: 0.0189\n",
      "b) La probabilidad de aprobar al contestar la pregunta duodécima es: 0.1398\n"
     ]
    },
    {
     "data": {
      "image/png": "[encoded data removed]",
      "text/plain": [
       "<Figure size 720x432 with 1 Axes>"
      ]
     },
     "metadata": {
      "needs_background": "light"
     },
     "output_type": "display_data"
    }
   ],
   "source": [
    "# Importamos las librerías necesarias\n",
    "import numpy as np\n",
    "import scipy.stats as sps  # Paqueterías estadísticas\n",
    "import matplotlib.pyplot as plt # Para visualizar datos\n",
    "\n",
    "\n",
    "p = 0.7  # Probabilidad de contestar bien una pregunta\n",
    "\n",
    "# a) Probabilidad de que la primera pregunta que contesta bien sea la cuarta.\n",
    "\n",
    "prob_a = p * (1 - p) ** (4 - 1)  # Fórmula de la distribución geométrica\n",
    "\n",
    "print(f\"a) La probabilidad de que la primera pregunta correcta sea la cuarta es: {prob_a:.4f}\")\n",
    "\n",
    "# b) Probabilidad de que apruebe al contestar la pregunta duodécima.\n",
    "\n",
    "r = 10  # Número de preguntas correctas necesarias para aprobar\n",
    "s = 100000  # Número de muestras\n",
    "prob_b = sps.nbinom.pmf(12 - r, r, p)  # Fórmula de la binomial negativa\n",
    "print(f\"b) La probabilidad de aprobar al contestar la pregunta duodécima es: {prob_b:.4f}\")\n",
    "\n",
    "# Generar números aleatorios que siguen una distribución binomial negativa\n",
    "nbinom_numeros = sps.nbinom.rvs(r, p, size=s)\n",
    "\n",
    "# Crear un histograma\n",
    "plt.figure(figsize=(10, 6))\n",
    "plt.hist(\n",
    "    nbinom_numeros,\n",
    "    density=True,  # Normaliza el área para que sea 1\n",
    "    bins=len(np.unique(nbinom_numeros)),  # Número de barras del histograma\n",
    "    color=\"olive\",\n",
    "    edgecolor=\"khaki\"\n",
    ")\n",
    "\n",
    "plt.xlabel('Valores')\n",
    "plt.ylabel('Probabilidad')\n",
    "plt.title('Función de densidad de una Binomial Negativa con r=10 y p=0.7')\n",
    "plt.show()"
   ]
  },
  {
   "cell_type": "markdown",
   "id": "d0f0f135",
   "metadata": {},
   "source": [
    "$\\color{red}{\\text{Ejercicio 5.}}$ Investigue sobre el problema de la caja de cerillos de Banach y explique su solución."
   ]
  },
  {
   "cell_type": "markdown",
   "id": "d65968e3",
   "metadata": {},
   "source": [
    "El problema de la caja de cerillos de Banach es un interesante concepto en la teoría de conjuntos y la topología. Se presenta en el contexto de la teoría de la medida y se refiere a la posibilidad de cubrir un conjunto no medible con una colección de conjuntos medibles.\n",
    "\n",
    "En términos simples, imagina que tienes una caja de cerillos (o fósforos) y quieres saber si puedes organizar esos cerillos de tal manera que puedas cubrir un conjunto que no tiene un \"tamaño\" bien definido (es decir, que no se puede medir de manera convencional). El problema se centra en la existencia de conjuntos que son \"raros\" en el sentido de que no se pueden medir con la noción estándar de longitud, área o volumen.\n",
    "\n",
    "La solución a este problema se relaciona con la construcción de conjuntos no medibles, como el conjunto de Vitali, que se forma utilizando la relación de equivalencia en los números reales. Este conjunto se puede construir eligiendo un representante de cada clase de equivalencia de números reales bajo la relación de ser \"diferentes por un número racional\". A través de este proceso, se demuestra que es posible crear un conjunto que no puede ser medido en el sentido tradicional."
   ]
  },
  {
   "cell_type": "markdown",
   "id": "3f0e598b",
   "metadata": {},
   "source": [
    "$\\color{red}{\\text{Ejercicio 6.}}$ Replica la gráfica de la funcion de densidad de una distribución hipergeometrica."
   ]
  },
  {
   "cell_type": "code",
   "execution_count": 23,
   "id": "60032f23",
   "metadata": {},
   "outputs": [
    {
     "data": {
      "image/png": "[encoded data removed]",
      "text/plain": [
       "<Figure size 432x288 with 1 Axes>"
      ]
     },
     "metadata": {
      "needs_background": "light"
     },
     "output_type": "display_data"
    }
   ],
   "source": [
    "def plot_hipergeometrica(N, m, n):\n",
    "    \"\"\"\n",
    "    Grafica la función de masa de probabilidad de la distribución Hipergeométrica.\n",
    "    \n",
    "    Parámetros:\n",
    "    N: Tamaño total de la población\n",
    "    m: Número total de éxitos en la población\n",
    "    n: Tamaño de la muestra\n",
    "    \"\"\"\n",
    "    x = np.arange(0, min(m, n) + 1)  # Valores posibles de la variable aleatoria\n",
    "    pmf = hypergeom.pmf(x, N, m, n)  # Función de masa de probabilidad\n",
    "    \n",
    "    plt.figure(figsize=(8, 5))\n",
    "    plt.stem(x, pmf, basefmt=\"b\")  # Grafica en forma de línea con puntos\n",
    "    plt.xlabel('Número de éxitos en la muestra')\n",
    "    plt.ylabel('Probabilidad')\n",
    "    plt.title(f'Distribución Hipergeométrica (N={N}, m={m}, n={n})')\n",
    "    plt.grid()"
   ]
  },
  {
   "cell_type": "markdown",
   "id": "dcae88e9",
   "metadata": {},
   "source": [
    "$\\color{red}{\\text{Ejercicio 7.}}$ Una compañía petrolera realiza un estudio geológico que indica que un pozo petrolero exploratorio debería tener un 20% de posibilidades de encontrar petróleo.\n",
    "\n",
    "- ¿Cuál es la probabilidad de que el primer pozo se produzca en el tercer pozo perforado?\n",
    "\n",
    "- ¿Cuál es la probabilidad de que el tercer pozo se produzca en el séptimo pozo perforado?\n",
    "\n",
    "- ¿Cuál es la media y la varianza del número de pozos que se deben perforar si la compañía petrolera quiere establecer tres pozos productores?"
   ]
  },
  {
   "cell_type": "code",
   "execution_count": 26,
   "id": "3e05f7e2",
   "metadata": {},
   "outputs": [
    {
     "name": "stdout",
     "output_type": "stream",
     "text": [
      "Probabilidad de que el primer pozo se produzca en el tercer pozo perforado: 0.1280\n",
      "Probabilidad de que el tercer pozo se produzca en el séptimo pozo perforado: 28.8000\n",
      "Media del número de pozos necesarios: 15.0\n",
      "Varianza del número de pozos necesarios: 60.0\n"
     ]
    }
   ],
   "source": [
    "\n",
    "# Probabilidad de encontrar petróleo\n",
    "p = 0.2\n",
    "q = 1 - p  # Probabilidad de no encontrar petróleo\n",
    "\n",
    "# 1. Probabilidad de que el primer pozo se produzca en el tercer pozo perforado\n",
    "# Fórmula: P(X = k) = q^(k-1) * p (Distribución geométrica)\n",
    "k1 = 3\n",
    "probabilidad_1 = q**(k1 - 1) * p\n",
    "print(f\"Probabilidad de que el primer pozo se produzca en el tercer pozo perforado: {probabilidad_1:.4f}\")\n",
    "\n",
    "# 2. Probabilidad de que el tercer pozo se produzca en el séptimo pozo perforado\n",
    "# Fórmula: P(X = x) = comb(x-1, r-1) * p^r * q^(x-r) (Distribución binomial negativa)\n",
    "k2 = 7  # Número total de pozos perforados\n",
    "r = 3   # Tercer pozo productor\n",
    "probabilidad_2 = comb(k2 - 1, r - 1) * (p*r) * (q*(k2 - r))\n",
    "print(f\"Probabilidad de que el tercer pozo se produzca en el séptimo pozo perforado: {probabilidad_2:.4f}\")\n",
    "\n",
    "# 3. Media y varianza del número de pozos necesarios para establecer tres pozos productores\n",
    "# Media: E(X) = r / p\n",
    "# Varianza: Var(X) = r * (1 - p) / p^2\n",
    "media = r / p\n",
    "varianza = r * q / (p**2)\n",
    "print(f\"Media del número de pozos necesarios: {media}\")\n",
    "print(f\"Varianza del número de pozos necesarios: {varianza}\")\n",
    "\n",
    "\n"
   ]
  }
 ],
 "metadata": {
  "kernelspec": {
   "display_name": "Python 3 (ipykernel)",
   "language": "python",
   "name": "python3"
  },
  "language_info": {
   "codemirror_mode": {
    "name": "ipython",
    "version": 3
   },
   "file_extension": ".py",
   "mimetype": "text/x-python",
   "name": "python",
   "nbconvert_exporter": "python",
   "pygments_lexer": "ipython3",
   "version": "3.9.12"
  }
 },
 "nbformat": 4,
 "nbformat_minor": 5
}

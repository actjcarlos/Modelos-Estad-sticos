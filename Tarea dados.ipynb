{
 "cells": [
  {
   "cell_type": "markdown",
   "id": "46b0233b",
   "metadata": {},
   "source": [
    "Calcula la Ley del experimento aleatorio de la suma de dos dados honestos:\n",
    "\n",
    "1.   Documenta tu Colab/Notebook\n",
    "\n",
    "2.   Calcular la ley siguiendo un procedimiento similar al de clase\n",
    "\n",
    "## El espacio muestral asociado a un experimento aleatorio\n",
    "\n",
    "El espacio muestral $\\Omega$ del experimento aleatorio de lanzar dos dados honestos, esta compuesto por todas las pearejas ordenadas $(i,j)$ tales que $1 \\leq i,j \\leq 6$\n",
    "\n",
    "\n",
    "$$\\Omega = \\{ (i,j) \\mid 1 \\leq i,j \\leq 6 \\} $$\n",
    "\n",
    "y sabemos que $\\#\\Omega = 6^2 = 36$\n",
    "\n",
    "3. Verifica en cada caso, que:\n",
    "\n",
    "   $$\\sum_{k\\in R_{X}}\\mathbb{P}(X=k) = 1$$\n",
    "\n",
    "4. Gráfica la función de densidad:\n",
    "\n",
    "     Aquí pueden utilizar Python (para los que ya tengan conocimiento previo de matplotlib)"
   ]
  },
  {
   "cell_type": "code",
   "execution_count": null,
   "id": "c6d420b8",
   "metadata": {},
   "outputs": [],
   "source": [
    "import numpy as np\n",
    "import pandas as pd\n",
    "import matplotlib.pyplot as plt\n",
    "\n",
    "# Paso 1: Definir el espacio muestral\n",
    "Omega = [(i, j) for i in range(1, 7) for j in range(1, 7)]\n",
    "num_omega = len(Omega)  # Total de casos posibles (36)\n",
    "Omega"
   ]
  },
  {
   "cell_type": "code",
   "execution_count": null,
   "id": "94eae7ae",
   "metadata": {},
   "outputs": [],
   "source": [
    "# Paso 2: Definir el evento Sn (sumas posibles de dos dados)\n",
    "S = {}  # Diccionario para almacenar las sumas de los dados\n",
    "\n",
    "for i, j in Omega:\n",
    "    suma = i + j\n",
    "    if suma in S:\n",
    "            S[suma].append((i, j))\n",
    "    else:\n",
    "            S[suma] = [(i, j)]\n",
    "\n",
    "print(S)\n",
    "\n",
    "# Paso 3: Definir la función de probabilidad P(A)\n",
    "def P(A):\n",
    "    return len(A) / num_omega"
   ]
  },
  {
   "cell_type": "code",
   "execution_count": null,
   "id": "220a96e8",
   "metadata": {},
   "outputs": [],
   "source": [
    "# Paso 4: Calcular la ley de probabilidad (función de densidad)\n",
    "LeyS = {suma: P(pares) for suma, pares in S.items()}\n",
    "\n",
    "# Paso 5: Crear una Serie en Pandas\n",
    "ley_S = pd.Series(LeyS)\n",
    "\n",
    "LeyS\n",
    "ley_S"
   ]
  },
  {
   "cell_type": "code",
   "execution_count": null,
   "id": "9dab9ac4",
   "metadata": {},
   "outputs": [],
   "source": [
    "# Paso 6: Verificar que la suma de probabilidades sea 1\n",
    "suma_probabilidades = ley_S.sum()\n",
    "assert np.isclose(suma_probabilidades, 1), \"Las probabilidades no suman 1\"\n",
    "\n",
    "suma_probabilidades"
   ]
  },
  {
   "cell_type": "code",
   "execution_count": null,
   "id": "7c60b581",
   "metadata": {},
   "outputs": [],
   "source": [
    "# Paso 7: Graficar la función de densidad\n",
    "plt.figure(figsize=(8, 5))\n",
    "plt.bar(ley_S.index, ley_S.values, color='blue', alpha=0.7)\n",
    "plt.xlabel(\"Suma de los dados\")\n",
    "plt.ylabel(\"Probabilidad\")\n",
    "plt.title(\"Función de Densidad de la Suma de Dos Dados\")\n",
    "plt.xticks(range(2, 13))\n",
    "plt.grid(axis='y', linestyle='--', alpha=0.7)\n",
    "plt.show()"
   ]
  }
 ],
 "metadata": {
  "kernelspec": {
   "display_name": "Python 3 (ipykernel)",
   "language": "python",
   "name": "python3"
  },
  "language_info": {
   "codemirror_mode": {
    "name": "ipython",
    "version": 3
   },
   "file_extension": ".py",
   "mimetype": "text/x-python",
   "name": "python",
   "nbconvert_exporter": "python",
   "pygments_lexer": "ipython3",
   "version": "3.9.12"
  }
 },
 "nbformat": 4,
 "nbformat_minor": 5
}

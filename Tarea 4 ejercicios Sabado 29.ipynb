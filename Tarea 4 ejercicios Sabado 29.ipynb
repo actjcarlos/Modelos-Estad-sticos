{
 "cells": [
  {
   "cell_type": "code",
   "execution_count": null,
   "id": "f91432c8-c64b-4b49-bcc8-340b993a79e9",
   "metadata": {},
   "outputs": [],
   "source": [
    "## Equipo 3\n",
    "#Cesar Avila \n",
    "#Alejandra Belmont\n",
    "#Carlos Bobadilla\n",
    "#Juan Carlos \n",
    "#Keneth Aldama"
   ]
  },
  {
   "cell_type": "code",
   "execution_count": null,
   "id": "7e06bdf6-c236-40f0-a18d-e5ca7a6697f0",
   "metadata": {},
   "outputs": [],
   "source": [
    "# Ejercicio1:\n",
    "El tiempo de retardo para pacientes con enfermedad coronaria potencial se define como la duración entre el comienzo de un síntoma agudo cardiovascular y la llegada a la unidad de emergencia.\n",
    "\n",
    "Se supone que el tiempo de retardo sigue una distribución exponencial con parámetro $\\theta $.\n",
    "\n",
    "Se registraron los tiempos de retardo (en minutos) en la clínica para los primeros 20 pacientes:\n",
    "\n",
    "$$ 525, \\ 719, \\ 2880, \\ 150, \\ 30, \\ 251, \\ 45, \\ 858, \\ 15, \\ 47, \\ 90, \\ 56, \\ 68, \\ 6, \\ 189, \\ 180, \\ 60, \\ 60, \\ 294, \\ 747 $$\n",
    "\n",
    "- Encuentra un estimador por el método de momentos para la media de la distribución.\n",
    "- Encuentra el valor del estimador con los datos dados.\n",
    "\n",
    "### Solución:\n",
    "\n",
    "Considerando una distribución exponencial con parametro $\\theta$, sabemos que por definición la media teórica es:\n",
    "\n",
    "$$E[X] = \\theta$$\n",
    "\n",
    "Tomando en cuenta el *método de momentos*,  igualamos la media teórica con la media muestral, dicho de otra forma.\n",
    "\n",
    "$$\\hat{\\theta} = \\bar{X} = \\frac{1}{n} \\sum_{i=1}^{n} X_i$$\n",
    "\n",
    "Dado nuestro conjunto de datos:\n",
    "\n",
    "$$525, 719, 2880, 150, 30, 251, 45, 858, 15, 47, 90, 56, 68, 6, 189, 180, 60, 60, 294, 747$$\n",
    "\n",
    "A su vez \n",
    "$$n=20$$\n",
    "\n",
    "La media muestral (media empirica) es la siguiente:\n",
    "\n",
    "$$\\bar{X} = \\frac{525 + 719 + 2880 + 150 + 30 + 251 + 45 + 858 + 15 + 47 + 90 + 56 + 68 + 6 + 189 + 180 + 60 + 60 + 294 + 747}{20}$$  \n",
    "\n",
    "$$\\bar{X} = \\frac{7270}{20}$$\n",
    "\n",
    "\n",
    "Por lo tanto:\n",
    "\n",
    "*$$\\bar{X} = 363.5 $$*\n",
    "\n",
    "Por lo tanto, nuestro estimador *$\\theta$* calculado por el método de momentos es:\n",
    "\n",
    "*$$\\hat{\\theta} = 363.5$$*"
   ]
  },
  {
   "cell_type": "code",
   "execution_count": null,
   "id": "d2313177-60df-4f05-8f23-6024283636b8",
   "metadata": {},
   "outputs": [],
   "source": [
    "#Ejercicio 3:\n",
    "import sympy as sp\n",
    "\n",
    "# Definir la variable simbólica para theta\n",
    "theta = sp.Symbol('theta', positive=True)\n",
    "\n",
    "# Definir la función log-likelihood\n",
    "log_likelihood = 5 * sp.log(theta) - 14 * theta\n",
    "\n",
    "# Derivar la log-likelihood respecto a theta\n",
    "log_likelihood_derivative = sp.diff(log_likelihood, theta)\n",
    "\n",
    "# Resolver la ecuación de la derivada igual a 0\n",
    "theta_mle = sp.solve(log_likelihood_derivative, theta)\n",
    "\n",
    "# Resultado\n",
    "print(f\"El MLE para theta es: {theta_mle[0]}\")\n"
   ]
  },
  {
   "cell_type": "code",
   "execution_count": null,
   "id": "3437de3e-334c-48a5-b545-ac321f7c5555",
   "metadata": {},
   "outputs": [],
   "source": [
    "import numpy as np\n",
    "\n",
    "# Datos de vida útil de los focos (en años)\n",
    "vida_util = [2, 3, 1, 3, 5]\n",
    "\n",
    "# Calcular la media de los datos\n",
    "media = np.mean(vida_util)\n",
    "\n",
    "# Calcular el MLE de theta\n",
    "theta_mle = 1 / media\n",
    "\n",
    "print(f\"El MLE para theta es: {theta_mle}\")\n"
   ]
  },
  {
   "cell_type": "code",
   "execution_count": null,
   "id": "369db80d-c594-46b2-8d42-ad6d25b8c58b",
   "metadata": {},
   "outputs": [],
   "source": []
  }
 ],
 "metadata": {
  "kernelspec": {
   "display_name": "Python [conda env:base] *",
   "language": "python",
   "name": "conda-base-py"
  },
  "language_info": {
   "codemirror_mode": {
    "name": "ipython",
    "version": 3
   },
   "file_extension": ".py",
   "mimetype": "text/x-python",
   "name": "python",
   "nbconvert_exporter": "python",
   "pygments_lexer": "ipython3",
   "version": "3.12.7"
  }
 },
 "nbformat": 4,
 "nbformat_minor": 5
}

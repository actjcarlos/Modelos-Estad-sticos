{
 "cells": [
  {
   "cell_type": "markdown",
   "id": "d76698fe",
   "metadata": {},
   "source": [
    "# Probabilidad Laplaciana \n",
    "\n",
    "### Integrantes: \n",
    "* **Kenet Tyler Aldama**\n",
    "* **Alejandra Belmont Valderrama**\n",
    "* **Carlos Bobadilla** \n",
    "* **Cesar Enrique** \n",
    "* **Juan Carlos Ramirez Romero**   \n",
    "\n",
    "Para un experimento aleatorio, se tiene que $\\Omega$ es el espacio muestral.\n",
    "\n",
    "Sea $A$ un evento, entonces:\n",
    "$$\\mathbb{P}(A)=\\frac{\\#A (cardinalidad de A)}{\\#\\Omega (carndinalidad de omega)}$$\n",
    "\n",
    "**Ejemplo:** Sea el experimento de lanza una moneda 3 veces, de manera independiente (es decir, el $i$-esimo lanzamiento no me afecta al $i+1$).   \n",
    "El Espacio muestral de este esperimento es:\n",
    "\n",
    "$$ \\Omega =\\{A,S\\} \\times \\{A,S\\} \\times \\{A,S\\} \\times = \\{A,S\\}^3$$ \n",
    "\n",
    "Y tenemos que la cardinalidad de $\\Omega =2^3$  \n",
    "Sean los eventos:\n",
    "* $A$: todos los resultados son aguila \n",
    "* $S$: todos los resultados son soles\n",
    "* $E$: Por lo menos un resultado es sol\n",
    "\n",
    "Calcular las probabilidades de estos eventos:\n",
    "\n",
    "**Solución:**   \n",
    "Vamos a descomponer mi conjunto $A$ de la siguiente manera:\n",
    "$$ A= A_1\\cap A_2 \\cap A_3$$\n",
    "donde $A_i$: caé en el $i$-ésimo resultado."
   ]
  },
  {
   "cell_type": "code",
   "execution_count": 5,
   "id": "5eb16f23",
   "metadata": {},
   "outputs": [
    {
     "data": {
      "text/plain": [
       "{('A', 'A', 'A'),\n",
       " ('A', 'A', 'S'),\n",
       " ('A', 'S', 'A'),\n",
       " ('A', 'S', 'S'),\n",
       " ('S', 'A', 'A'),\n",
       " ('S', 'A', 'S'),\n",
       " ('S', 'S', 'A'),\n",
       " ('S', 'S', 'S')}"
      ]
     },
     "execution_count": 5,
     "metadata": {},
     "output_type": "execute_result"
    }
   ],
   "source": [
    "# Vamos a crear el espacio muestal\n",
    "\n",
    "#De esta manera importamos el módulo\n",
    "import itertools \n",
    "from itertools import product\n",
    "\n",
    "Omega= set (product({'A', 'S'}, repeat=3))\n",
    "Omega\n"
   ]
  },
  {
   "cell_type": "code",
   "execution_count": 6,
   "id": "ca2b2eb5",
   "metadata": {},
   "outputs": [
    {
     "data": {
      "text/plain": [
       "8"
      ]
     },
     "execution_count": 6,
     "metadata": {},
     "output_type": "execute_result"
    }
   ],
   "source": [
    "card= len(Omega)\n",
    "card"
   ]
  },
  {
   "cell_type": "code",
   "execution_count": 7,
   "id": "a6213bae",
   "metadata": {},
   "outputs": [
    {
     "data": {
      "text/plain": [
       "{('A', 'A', 'A'), ('A', 'A', 'S'), ('A', 'S', 'A'), ('A', 'S', 'S')}"
      ]
     },
     "execution_count": 7,
     "metadata": {},
     "output_type": "execute_result"
    }
   ],
   "source": [
    "#Vamos a crear el evento A_1\n",
    "A_1={om for om in Omega if om[0]=='A'} #La PRIMERA coordenada es águila\n",
    "A_1"
   ]
  },
  {
   "cell_type": "code",
   "execution_count": 8,
   "id": "a0952278",
   "metadata": {},
   "outputs": [
    {
     "data": {
      "text/plain": [
       "{('A', 'A', 'A'), ('A', 'A', 'S'), ('S', 'A', 'A'), ('S', 'A', 'S')}"
      ]
     },
     "execution_count": 8,
     "metadata": {},
     "output_type": "execute_result"
    }
   ],
   "source": [
    "#Vamos a crear el evento A_1\n",
    "A_2={om for om in Omega if om[1]=='A'} #La SEGUNDA coordenada es águila\n",
    "A_2"
   ]
  },
  {
   "cell_type": "code",
   "execution_count": 9,
   "id": "70141df2",
   "metadata": {},
   "outputs": [
    {
     "data": {
      "text/plain": [
       "{('A', 'A', 'A'), ('A', 'S', 'A'), ('S', 'A', 'A'), ('S', 'S', 'A')}"
      ]
     },
     "execution_count": 9,
     "metadata": {},
     "output_type": "execute_result"
    }
   ],
   "source": [
    "#Vamos a crear el evento A_1\n",
    "A_3={om for om in Omega if om[2]=='A'} #La TERCERA coordenada es águila\n",
    "A_3"
   ]
  },
  {
   "cell_type": "code",
   "execution_count": 10,
   "id": "8c48566a",
   "metadata": {},
   "outputs": [
    {
     "data": {
      "text/plain": [
       "{('A', 'A', 'A')}"
      ]
     },
     "execution_count": 10,
     "metadata": {},
     "output_type": "execute_result"
    }
   ],
   "source": [
    "# Vamos a crear el evento A \n",
    "A = A_1.intersection(A_2.intersection (A_3))\n",
    "A"
   ]
  },
  {
   "cell_type": "code",
   "execution_count": 11,
   "id": "80b90252",
   "metadata": {},
   "outputs": [
    {
     "data": {
      "text/plain": [
       "1"
      ]
     },
     "execution_count": 11,
     "metadata": {},
     "output_type": "execute_result"
    }
   ],
   "source": [
    "len (A)"
   ]
  },
  {
   "cell_type": "code",
   "execution_count": 14,
   "id": "e5d3cebe",
   "metadata": {},
   "outputs": [
    {
     "data": {
      "text/plain": [
       "0.125"
      ]
     },
     "execution_count": 14,
     "metadata": {},
     "output_type": "execute_result"
    }
   ],
   "source": [
    "#Finalmente vamos a calcular la probabilidad de A \n",
    "P_A=len(A)/len (Omega)\n",
    "P_A"
   ]
  },
  {
   "cell_type": "markdown",
   "id": "9e453b23",
   "metadata": {},
   "source": [
    "Yo quiero expresar mi resultado en fracción, esto se hace de la siguiente manera;"
   ]
  },
  {
   "cell_type": "code",
   "execution_count": 21,
   "id": "a05455c6",
   "metadata": {},
   "outputs": [
    {
     "name": "stdout",
     "output_type": "stream",
     "text": [
      "{('S', 'S', 'A'), ('S', 'A', 'A'), ('S', 'S', 'S'), ('S', 'A', 'S')}\n",
      "{('A', 'S', 'S'), ('S', 'S', 'A'), ('S', 'S', 'S'), ('A', 'S', 'A')}\n",
      "{('A', 'S', 'S'), ('A', 'A', 'S'), ('S', 'S', 'S'), ('S', 'A', 'S')}\n",
      "{('S', 'S', 'S')}\n"
     ]
    },
    {
     "data": {
      "text/plain": [
       "0.125"
      ]
     },
     "execution_count": 21,
     "metadata": {},
     "output_type": "execute_result"
    }
   ],
   "source": [
    "# Cálculo del evento de \"S\"\n",
    "\n",
    "S_1={om for om in Omega if om[0]=='S'} #La PRIMERA coordenada es águila\n",
    "S_2={om for om in Omega if om[1]=='S'} #La SEGUNDA coordenada es águila\n",
    "S_3={om for om in Omega if om[2]=='S'} #La TERCERA coordenada es águila\n",
    "print (S_1)\n",
    "print (S_2)\n",
    "print (S_3)\n",
    "\n",
    "S=S_1.intersection(S_2.intersection(S_3))\n",
    "print (S)\n",
    "\n",
    "#Vamos a crear el evento S.\n",
    "len(S)\n",
    "P_S=len(S)/len(Omega)\n",
    "P_S"
   ]
  },
  {
   "cell_type": "code",
   "execution_count": 25,
   "id": "b38674f8",
   "metadata": {},
   "outputs": [
    {
     "name": "stdout",
     "output_type": "stream",
     "text": [
      "{('S', 'S', 'A'), ('S', 'A', 'A'), ('S', 'S', 'S'), ('S', 'A', 'S')}\n",
      "{('A', 'S', 'S'), ('S', 'S', 'A'), ('S', 'S', 'S'), ('A', 'S', 'A')}\n",
      "{('A', 'S', 'S'), ('A', 'A', 'S'), ('S', 'S', 'S'), ('S', 'A', 'S')}\n",
      "{('A', 'A', 'S'), ('S', 'A', 'S'), ('S', 'A', 'A'), ('S', 'S', 'A'), ('S', 'S', 'S'), ('A', 'S', 'A'), ('A', 'S', 'S')}\n",
      "0.875\n",
      "0.875\n"
     ]
    }
   ],
   "source": [
    "#Cálculo del evento de \"E\"\n",
    "E_1={om for om in Omega if om[0]=='S'} #La PRIMERA coordenada es águila\n",
    "E_2={om for om in Omega if om[1]=='S'} #La SEGUNDA coordenada es águila\n",
    "E_3={om for om in Omega if om[2]=='S'} #La TERCERA coordenada es águila\n",
    "print (E_1)\n",
    "print (E_2)\n",
    "print (E_3)\n",
    "E=E_1.union(E_2.union(E_3))\n",
    "print (E)\n",
    "\n",
    "#Vamos a crear el evento S.\n",
    "len(E)\n",
    "P_E=len(E)/len(Omega)\n",
    "print(P_E)\n",
    "\n",
    "\n",
    "# Otra manera de verlo es\n",
    "P_e=1-P_A\n",
    "print(P_e)\n",
    "#Ya que como vimos, ese es el unico caso en el que no cae ni un solo sol."
   ]
  },
  {
   "cell_type": "markdown",
   "id": "2c6db75f",
   "metadata": {},
   "source": [
    "## Probabilidad condicional  \n",
    "Definimos la probabilidad de que ocurra un evento $A$ sabiendo que ocurre el evento $B$.    \n",
    "\n",
    "$$ \\mathbb{P}(A \\mid B) =\\frac{\\mathbb{P}(A\\cap B))}{\\mathbb{B}} $$\n",
    "$$= \\frac {#(A\\cap B)}{#B}$$\n",
    "Donde $\\mathbb{P}(B)>0$"
   ]
  },
  {
   "cell_type": "code",
   "execution_count": null,
   "id": "e2ad3a89",
   "metadata": {},
   "outputs": [],
   "source": [
    "def prob_cond(E,F)\n",
    "    return len(E&F)/len(F)"
   ]
  },
  {
   "cell_type": "markdown",
   "id": "020b8697",
   "metadata": {},
   "source": [
    "**Ejercicio:**  \n",
    "Quiero calcular la probabilidad condicional de los siguientes eventos:\n",
    "* El primer lazamientos es aguila \n",
    "* Dos de los resultados son aguila"
   ]
  },
  {
   "cell_type": "code",
   "execution_count": 27,
   "id": "be50a74b",
   "metadata": {},
   "outputs": [
    {
     "name": "stdout",
     "output_type": "stream",
     "text": [
      "{('A', 'A', 'A'), ('A', 'S', 'S'), ('A', 'A', 'S'), ('A', 'S', 'A')}\n",
      "{('S', 'A', 'A'), ('A', 'A', 'S'), ('A', 'S', 'A')}\n"
     ]
    }
   ],
   "source": [
    "#El priemr lanzamiento es águila\n",
    "B= {om for om in Omega if om[0]=='A'}\n",
    "print (B)\n",
    "\n",
    "##La funcón count cuenta dos veces A \n",
    "C= {om for om in Omega if om.count('A')==2}\n",
    "print (C)\n"
   ]
  },
  {
   "cell_type": "code",
   "execution_count": 34,
   "id": "b39cd4f2",
   "metadata": {},
   "outputs": [],
   "source": [
    "def prob_cond(E):\n",
    "    return len(E)/len (Omega)"
   ]
  },
  {
   "cell_type": "code",
   "execution_count": 35,
   "id": "f0eb294b",
   "metadata": {},
   "outputs": [
    {
     "name": "stdout",
     "output_type": "stream",
     "text": [
      "0.5\n",
      "0.375\n"
     ]
    },
    {
     "ename": "TypeError",
     "evalue": "prob_cond() takes 1 positional argument but 2 were given",
     "output_type": "error",
     "traceback": [
      "\u001b[1;31m---------------------------------------------------------------------------\u001b[0m",
      "\u001b[1;31mTypeError\u001b[0m                                 Traceback (most recent call last)",
      "Input \u001b[1;32mIn [35]\u001b[0m, in \u001b[0;36m<cell line: 3>\u001b[1;34m()\u001b[0m\n\u001b[0;32m      1\u001b[0m \u001b[38;5;28mprint\u001b[39m (prob (B))\n\u001b[0;32m      2\u001b[0m \u001b[38;5;28mprint\u001b[39m (prob (C))\n\u001b[1;32m----> 3\u001b[0m \u001b[38;5;28mprint\u001b[39m (\u001b[43mprob_cond\u001b[49m\u001b[43m(\u001b[49m\u001b[43mB\u001b[49m\u001b[43m,\u001b[49m\u001b[43mC\u001b[49m\u001b[43m)\u001b[49m)\n",
      "\u001b[1;31mTypeError\u001b[0m: prob_cond() takes 1 positional argument but 2 were given"
     ]
    }
   ],
   "source": [
    "print (prob (B))\n",
    "print (prob (C))\n",
    "print (prob_cond(B,C))\n"
   ]
  },
  {
   "cell_type": "markdown",
   "id": "c163dccb",
   "metadata": {},
   "source": [
    "## Independencia de eventos  \n",
    "Decimos que dos eventos $A$ y $B$ son independientes si:\n",
    "$$\\mathbb $$\n"
   ]
  },
  {
   "cell_type": "code",
   "execution_count": 32,
   "id": "57e3ff01",
   "metadata": {},
   "outputs": [],
   "source": [
    "def indep(E,F):\n",
    "        return prob(E&F)==prob(E)*prob(F)"
   ]
  },
  {
   "cell_type": "code",
   "execution_count": 33,
   "id": "9e0fb75a",
   "metadata": {},
   "outputs": [
    {
     "data": {
      "text/plain": [
       "False"
      ]
     },
     "execution_count": 33,
     "metadata": {},
     "output_type": "execute_result"
    }
   ],
   "source": [
    "indep(B,C)"
   ]
  },
  {
   "cell_type": "markdown",
   "id": "5af22c8b",
   "metadata": {},
   "source": [
    "**Ejemplo:**  \n",
    "Sea el experimentoaleatorio de lanzar un dado dos veces. Sabemos que el espacio muestral es el siguiente:\n",
    "$$\\Omega = \\}$$"
   ]
  },
  {
   "cell_type": "code",
   "execution_count": 42,
   "id": "16c8760a",
   "metadata": {},
   "outputs": [
    {
     "name": "stdout",
     "output_type": "stream",
     "text": [
      "Omega_dado= {(3, 4), (4, 3), (3, 1), (5, 4), (4, 6), (5, 1), (2, 2), (1, 6), (2, 5), (1, 3), (6, 2), (6, 5), (4, 2), (4, 5), (3, 3), (5, 6), (3, 6), (5, 3), (2, 4), (1, 2), (2, 1), (1, 5), (6, 1), (6, 4), (3, 2), (4, 1), (3, 5), (5, 2), (4, 4), (5, 5), (1, 1), (1, 4), (2, 3), (2, 6), (6, 6), (6, 3)}\n",
      "card_om= 36\n"
     ]
    }
   ],
   "source": [
    "Omega_dado=set(product([1,2,3,4,5,6], repeat=2))\n",
    "print ('Omega_dado=', Omega_dado)\n",
    "card_om=len(Omega_dado)\n",
    "print ('card_om=', card_om)\n"
   ]
  },
  {
   "cell_type": "markdown",
   "id": "eff22e61",
   "metadata": {},
   "source": [
    "Definimos el evento:\n",
    "* $S_n$: la suma de los dado en $n$\n",
    "y escrito como conjunto es\n",
    "$$S_n=\\{(i,j)\\in \\Omega \\mid i+j =n \\}$$"
   ]
  },
  {
   "cell_type": "code",
   "execution_count": 50,
   "id": "58442e98",
   "metadata": {},
   "outputs": [
    {
     "name": "stdout",
     "output_type": "stream",
     "text": [
      "{(6, 3), (4, 5), (5, 4), (3, 6)}\n"
     ]
    }
   ],
   "source": [
    "def S(n):\n",
    "        Sn={ (i,j) for i in range (1,7) for j in range (1,7) if i+j ==n }\n",
    "        return Sn\n",
    "    \n",
    "print (S(9))"
   ]
  }
 ],
 "metadata": {
  "kernelspec": {
   "display_name": "Python 3 (ipykernel)",
   "language": "python",
   "name": "python3"
  },
  "language_info": {
   "codemirror_mode": {
    "name": "ipython",
    "version": 3
   },
   "file_extension": ".py",
   "mimetype": "text/x-python",
   "name": "python",
   "nbconvert_exporter": "python",
   "pygments_lexer": "ipython3",
   "version": "3.9.12"
  }
 },
 "nbformat": 4,
 "nbformat_minor": 5
}

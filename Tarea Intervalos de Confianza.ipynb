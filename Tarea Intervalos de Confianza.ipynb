{
 "cells": [
  {
   "cell_type": "markdown",
   "id": "1657f41b-c297-438d-93fc-b1482799b093",
   "metadata": {},
   "source": [
    "# Tarea. Intervalos de confianza"
   ]
  },
  {
   "cell_type": "markdown",
   "id": "b85ca137-0741-4d12-b32b-9d36ea4bd5a3",
   "metadata": {},
   "source": [
    "**Ejercicio 1** En una encuesta de una Universidad, 225 estudiantes son seleccionados al azar de los que toman cálculo y se les pregunta si cálculo es su materia favorita. 100 estudiantes responden que el cálculo es su materia favorita. Proporcione un intervalo de confianza del 95 %  para la proporción de todos los estudiantes que toman cálculo y que la consideran su materia favorita.  "
   ]
  },
  {
   "cell_type": "code",
   "execution_count": 4,
   "id": "a50264be-220c-43d6-ae04-f56b81e52c13",
   "metadata": {},
   "outputs": [
    {
     "name": "stdout",
     "output_type": "stream",
     "text": [
      "Intervalo de confianza del 95%: (0.3795, 0.5094)\n"
     ]
    }
   ],
   "source": [
    "import math\n",
    "from scipy.stats import norm\n",
    "\n",
    "# Datos\n",
    "n = 225\n",
    "x = 100\n",
    "p_hat = x / n\n",
    "confianza = 0.95\n",
    "z = norm.ppf(1 - (1 - confianza) / 2)\n",
    "\n",
    "# Cálculo intervalo\n",
    "margen_error = z * math.sqrt(p_hat * (1 - p_hat) / n)\n",
    "lim_inf = p_hat - margen_error\n",
    "lim_sup = p_hat + margen_error\n",
    "\n",
    "print(f\"Intervalo de confianza del 95%: ({lim_inf:.4f}, {lim_sup:.4f})\")"
   ]
  },
  {
   "cell_type": "markdown",
   "id": "5cb8f22c-18bd-4531-ab50-bd8dd6b5e0cf",
   "metadata": {},
   "source": [
    "**Ejercicio 2** Los datos $1.2,\\ 2.1,\\ 2.3,\\ 1.9,\\ 3.0,\\ 1.5,\\ 2.8,\\ 2.4,\\ 1.7,\\ 2.6,\\ 2.0,\\ 1.8,\\ 3.1,\\ 2.2,\\ 2.5$ se toman a partir de una distribución normal $N(\\mu,\\sigma^2)$ con $\\mu$ desconocida.\n",
    "\n",
    "**a)** Encuentra un intervalo de confianza al nivel de $90\\%$ para $\\mu$, dado que $\\sigma =2$.\n",
    "\n",
    "**b)** Encuentra un intervalo de confianza al nivel de $90\\%$ para $\\mu$.\n",
    "\n",
    "**c)** Encuentra un intervalo de confianza al nivel de $90\\%$ para $\\sigma^2$."
   ]
  },
  {
   "cell_type": "code",
   "execution_count": 10,
   "id": "ed1a51a8-27f9-475d-99d3-7acbffe86fb4",
   "metadata": {},
   "outputs": [
    {
     "name": "stdout",
     "output_type": "stream",
     "text": [
      "a) Intervalo de confianza 90% para μ (σ conocido): (1.3573, 3.0561)\n"
     ]
    }
   ],
   "source": [
    "#Inciso a)\n",
    "\n",
    "import numpy as np\n",
    "\n",
    "# Datos\n",
    "datos = np.array([1.2, 2.1, 2.3, 1.9, 3.0, 1.5, 2.8, 2.4, 1.7, 2.6, 2.0, 1.8, 3.1, 2.2, 2.5])\n",
    "sigma = 2\n",
    "n = len(datos)\n",
    "confianza = 0.90\n",
    "z = norm.ppf(1 - (1 - confianza) / 2)\n",
    "\n",
    "# Media muestral\n",
    "media = np.mean(datos)\n",
    "\n",
    "# Intervalo\n",
    "margen_error = z * (sigma / np.sqrt(n))\n",
    "lim_inf = media - margen_error\n",
    "lim_sup = media + margen_error\n",
    "\n",
    "print(f\"a) Intervalo de confianza 90% para μ (σ conocido): ({lim_inf:.4f}, {lim_sup:.4f})\")"
   ]
  },
  {
   "cell_type": "code",
   "execution_count": 12,
   "id": "31fa3819-06ff-41f5-b06f-04d7e3ca6e00",
   "metadata": {},
   "outputs": [
    {
     "name": "stdout",
     "output_type": "stream",
     "text": [
      "b) Intervalo de confianza 90% para μ (σ desconocido): (1.9591, 2.4542)\n"
     ]
    }
   ],
   "source": [
    "#Inciso b)\n",
    "\n",
    "from scipy.stats import t\n",
    "\n",
    "# Desviación estándar muestral\n",
    "s = np.std(datos, ddof=1)\n",
    "t_valor = t.ppf(1 - (1 - confianza) / 2, n - 1)\n",
    "\n",
    "# Intervalo\n",
    "margen_error = t_valor * (s / np.sqrt(n))\n",
    "lim_inf = media - margen_error\n",
    "lim_sup = media + margen_error\n",
    "\n",
    "print(f\"b) Intervalo de confianza 90% para μ (σ desconocido): ({lim_inf:.4f}, {lim_sup:.4f})\")"
   ]
  },
  {
   "cell_type": "code",
   "execution_count": 14,
   "id": "de40c710-60f5-4bb7-ab06-fe41f2e42afe",
   "metadata": {},
   "outputs": [
    {
     "name": "stdout",
     "output_type": "stream",
     "text": [
      "c) Intervalo de confianza 90% para σ^2: (0.1752, 0.6315)\n"
     ]
    }
   ],
   "source": [
    "#Inciso c)\n",
    "\n",
    "from scipy.stats import chi2\n",
    "\n",
    "# Varianza muestral\n",
    "varianza = s**2\n",
    "\n",
    "# Valores chi-cuadrado\n",
    "chi2_inf = chi2.ppf((1 - confianza) / 2, n - 1)\n",
    "chi2_sup = chi2.ppf(1 - (1 - confianza) / 2, n - 1)\n",
    "\n",
    "# Intervalo\n",
    "lim_inf = (n - 1) * varianza / chi2_sup\n",
    "lim_sup = (n - 1) * varianza / chi2_inf\n",
    "\n",
    "print(f\"c) Intervalo de confianza 90% para σ^2: ({lim_inf:.4f}, {lim_sup:.4f})\")"
   ]
  },
  {
   "cell_type": "markdown",
   "id": "d101d9b0-efb6-41c2-83e3-36c00166be0e",
   "metadata": {},
   "source": [
    "**Ejercicio** Los ingresos semanales promedio de las personas que trabajan en varias industrias aparecieron en el *The New York Times 1988 Almanac*.  \n",
    "Esos ingresos para quienes trabajan en los servicios fueron de $\\$369$. Suponga que este resultado se basó en una muestra de 250 personas dedicadas a los servicios y que la desviación estándar de la muestra fue de $\\$50$. Calcula el intervalo de confianza del 95% para la media de la población de ingresos semanales de personas que trabajan en los servicios."
   ]
  },
  {
   "cell_type": "code",
   "execution_count": 17,
   "id": "efa50f06-2107-4644-9a80-8af33591873e",
   "metadata": {},
   "outputs": [
    {
     "name": "stdout",
     "output_type": "stream",
     "text": [
      "Intervalo de confianza 95% para ingreso semanal: (362.80, 375.20)\n"
     ]
    }
   ],
   "source": [
    "# Datos\n",
    "n = 250\n",
    "media = 369\n",
    "s = 50\n",
    "confianza = 0.95\n",
    "z = norm.ppf(1 - (1 - confianza) / 2)\n",
    "\n",
    "# Intervalo\n",
    "margen_error = z * (s / np.sqrt(n))\n",
    "lim_inf = media - margen_error\n",
    "lim_sup = media + margen_error\n",
    "\n",
    "print(f\"Intervalo de confianza 95% para ingreso semanal: ({lim_inf:.2f}, {lim_sup:.2f})\")"
   ]
  },
  {
   "cell_type": "markdown",
   "id": "4ab4ed4f-a657-4271-99e4-8947645d6ca4",
   "metadata": {},
   "source": [
    "**Ejercicio** En un estudio de préstamos a estudiantes, el Departamento de Educación informó que los beneficiarios del fondo Stafford Loan deberían un promedio de \\$12,658 al recibirse (*USA Today*, 5 de abril de 1995). Suponga que este promedio de deuda se basa en una muestra de 480 préstamos a estudiantes y que la desviación estándar de la población de las deudas al recibirse es \\$2,000.\n",
    "\n",
    "**a)** Determina un estimado de confianza del **90%** del promedio poblacional de la deuda.\n",
    "\n",
    "**b)** Determina un estimado de confianza del **95%** del promedio poblacional de la deuda.\n",
    "\n",
    "**c)** Determina un estimado de confianza del **99%** del promedio poblacional de la deuda.\n",
    "\n",
    "**d)** Describe lo que sucede con el **ancho del intervalo de confianza** a medida que se **aumenta el nivel de confianza**. ¿Parece razonable? Explica tu respuesta."
   ]
  },
  {
   "cell_type": "code",
   "execution_count": 22,
   "id": "71c7a105-ef94-4493-8aa0-42362556554c",
   "metadata": {},
   "outputs": [
    {
     "name": "stdout",
     "output_type": "stream",
     "text": [
      "Fórmula: IC = x̄ ± z_(α/2) * (σ/√n)\n",
      "a) IC 90%: (12507.85, 12808.15)\n",
      "b) IC 95%: (12479.08, 12836.92)\n",
      "c) IC 99%: (12422.86, 12893.14)\n",
      "\n",
      "d) A medida que aumenta el nivel de confianza, el ancho del intervalo también aumenta.\n",
      "Esto es razonable porque al querer estar más seguros de que la media poblacional está dentro del intervalo, necesitamos ampliar ese rango.\n"
     ]
    }
   ],
   "source": [
    "# Datos\n",
    "media = 12658\n",
    "n = 480\n",
    "sigma = 2000\n",
    "\n",
    "# Fórmula en string\n",
    "formula = \"IC = x̄ ± z_(α/2) * (σ/√n)\"\n",
    "print(\"Fórmula:\", formula)\n",
    "\n",
    "# a) 90%\n",
    "confianza = 0.90\n",
    "z = norm.ppf(1 - (1 - confianza) / 2)\n",
    "margen_error = z * (sigma / np.sqrt(n))\n",
    "lim_inf = media - margen_error\n",
    "lim_sup = media + margen_error\n",
    "print(f\"a) IC 90%: ({lim_inf:.2f}, {lim_sup:.2f})\")\n",
    "\n",
    "# b) 95%\n",
    "confianza = 0.95\n",
    "z = norm.ppf(1 - (1 - confianza) / 2)\n",
    "margen_error = z * (sigma / np.sqrt(n))\n",
    "lim_inf = media - margen_error\n",
    "lim_sup = media + margen_error\n",
    "print(f\"b) IC 95%: ({lim_inf:.2f}, {lim_sup:.2f})\")\n",
    "\n",
    "# c) 99%\n",
    "confianza = 0.99\n",
    "z = norm.ppf(1 - (1 - confianza) / 2)\n",
    "margen_error = z * (sigma / np.sqrt(n))\n",
    "lim_inf = media - margen_error\n",
    "lim_sup = media + margen_error\n",
    "print(f\"c) IC 99%: ({lim_inf:.2f}, {lim_sup:.2f})\")\n",
    "\n",
    "# d) Comentario sobre ancho del intervalo\n",
    "print(\"\\nd) A medida que aumenta el nivel de confianza, el ancho del intervalo también aumenta.\")\n",
    "print(\"Esto es razonable porque al querer estar más seguros de que la media poblacional está dentro del intervalo, necesitamos ampliar ese rango.\")"
   ]
  },
  {
   "cell_type": "markdown",
   "id": "4df6c700-6842-4857-94fd-1eff446cfe9b",
   "metadata": {},
   "source": [
    "**Ejercicio** La encuesta anual de calidad de automóviles, efectuada por *J. D. Power & Associates*, determinó que la cantidad promedio de defectos, en todas las marcas, por cada vehículo nuevo es **1.07**  (*The Wall Street Journal*, 27 de enero de 1994). Suponga que se toma una muestra de **30 automóviles nuevos** de determinada marca y se obtienen las siguientes cantidades de defectos por vehículo:\n",
    "$$ 0, 1, 1, 2, 1, 0, 2, 3, 2, 1, 0, 2, 0, 0, 2, 3, 0, 4, 3, 1, 1, 1, 0, 2, 0, 2, 0, 3, 1, 0 $$\n",
    "\n",
    "**a)** ¿Cuál es el promedio muestral de la cantidad de defectos por vehículo?\n",
    "\n",
    "**b)** ¿Cuál es la desviación estándar de la muestra?\n",
    "\n",
    "**c)** Determine un intervalo de confianza del 95% para la **media de defectos** por vehículo de esta marca.\n",
    "\n",
    "**d)** Un analista sugirió que se debería **revisar una muestra mayor** antes de comparar con el promedio general de J.D. Power (1.07). ¿Respalda usted esta idea? ¿Por qué?"
   ]
  },
  {
   "cell_type": "code",
   "execution_count": 25,
   "id": "1b65a37e-90f9-41d7-9853-b655c9203cbb",
   "metadata": {},
   "outputs": [
    {
     "name": "stdout",
     "output_type": "stream",
     "text": [
      "a) Promedio muestral: 1.27\n",
      "b) Desviación estándar muestral: 1.17\n",
      "Fórmula: IC = x̄ ± t_(α/2, n-1) * (s/√n)\n",
      "c) IC 95%: (0.829, 1.704)\n",
      "d) Sí, es recomendable una muestra mayor. Con una muestra pequeña, el intervalo puede ser muy amplio y no representar con precisión el promedio poblacional.\n"
     ]
    }
   ],
   "source": [
    "defectos = np.array([0, 1, 1, 2, 1, 0, 2, 3, 2, 1, 0, 2, 0, 0, 2, 3, 0, 4, 3, 1, 1, 1, 0, 2, 0, 2, 0, 3, 1, 0])\n",
    "\n",
    "#a)\n",
    "\n",
    "promedio = np.mean(defectos)\n",
    "print(f\"a) Promedio muestral: {promedio:.2f}\")\n",
    "\n",
    "#b) \n",
    "\n",
    "desviacion = np.std(defectos, ddof=1)\n",
    "print(f\"b) Desviación estándar muestral: {desviacion:.2f}\")\n",
    "\n",
    "#c)\n",
    "\n",
    "formula = \"IC = x̄ ± t_(α/2, n-1) * (s/√n)\"\n",
    "print(\"Fórmula:\", formula)\n",
    "\n",
    "confianza = 0.95\n",
    "n = len(defectos)\n",
    "t_valor = t.ppf(1 - (1 - confianza) / 2, n - 1)\n",
    "margen_error = t_valor * (desviacion / np.sqrt(n))\n",
    "lim_inf = promedio - margen_error\n",
    "lim_sup = promedio + margen_error\n",
    "print(f\"c) IC 95%: ({lim_inf:.3f}, {lim_sup:.3f})\")\n",
    "\n",
    "#d)\n",
    "\n",
    "print(\"d) Sí, es recomendable una muestra mayor. Con una muestra pequeña, el intervalo puede ser muy amplio y no representar con precisión el promedio poblacional.\")\n"
   ]
  },
  {
   "cell_type": "markdown",
   "id": "dfa5174e-8498-4ab6-8320-9e57894089cd",
   "metadata": {},
   "source": [
    "**Ejercicio** Un artículo que apareció en el ejemplar de noviembre de 1983 de *Consumer Reports* comparó varios tipos de baterías.  \n",
    "Se informó que los siguientes datos provienen de una muestra de 20 baterías (en horas de duración):\n",
    "$$ [2200, 2290, 2390, 2410, 2480, 2500, 2580, 2700, 2030, 2100, 2190, 1600, 1740, 1900, 1930, 2000, 1510, 1470, 1770, 1710] $$\n",
    "Determine la media muestral, la desviación estándar muestral, y el intervalo de confianza del **90%** para la media poblacional."
   ]
  },
  {
   "cell_type": "code",
   "execution_count": 28,
   "id": "940484ef-3012-4d47-a852-9eb10a57bb58",
   "metadata": {},
   "outputs": [
    {
     "name": "stdout",
     "output_type": "stream",
     "text": [
      "Media muestral: 2075.00\n",
      "Desviación estándar muestral: 368.93\n",
      "Fórmula: IC = x̄ ± t_(α/2, n-1) * (s/√n)\n",
      "IC 90%: (1932.35, 2217.65)\n"
     ]
    }
   ],
   "source": [
    "baterias = np.array([2200, 2290, 2390, 2410, 2480, 2500, 2580, 2700, 2030, 2100, 2190, 1600, 1740, 1900, 1930, 2000, 1510, 1470, 1770, 1710])\n",
    "\n",
    "media = np.mean(baterias)\n",
    "print(f\"Media muestral: {media:.2f}\")\n",
    "\n",
    "desviacion = np.std(baterias, ddof=1)\n",
    "print(f\"Desviación estándar muestral: {desviacion:.2f}\")\n",
    "\n",
    "formula = \"IC = x̄ ± t_(α/2, n-1) * (s/√n)\"\n",
    "print(\"Fórmula:\", formula)\n",
    "\n",
    "n = len(baterias)\n",
    "confianza = 0.90\n",
    "t_valor = t.ppf(1 - (1 - confianza) / 2, n - 1)\n",
    "margen_error = t_valor * (desviacion / np.sqrt(n))\n",
    "lim_inf = media - margen_error\n",
    "lim_sup = media + margen_error\n",
    "print(f\"IC 90%: ({lim_inf:.2f}, {lim_sup:.2f})\")"
   ]
  },
  {
   "cell_type": "markdown",
   "id": "bbab0076-1272-4ad3-a839-d57b2ef5cc3d",
   "metadata": {},
   "source": [
    "**Ejercicio** El toxafen es un insecticida que ha sido identificado como contaminante en el ecosistema de los Grandes Lagos.  \n",
    "Para investigar el efecto de la exposición al toxafen en animales, a grupos de ratas se les administró toxafen en su dieta.\n",
    "\n",
    "El artículo *\"Reproduction Study of Toxaphene in Rat\"* reporta **aumentos de peso (en gramos)** de ratas a las que se les administró una **dosis baja (4 ppm)** y de ratas de **control** cuya dieta no incluía el insecticida.\n",
    "\n",
    "- En el grupo **control**, una muestra de **23 ratas hembras** tuvo una media de **$\\bar{X_2} = 210$ g** y una desviación estándar de **32 g**.\n",
    "- En el grupo con **dosis baja**, una muestra de **20 ratas hembras** tuvo una media de **$\\bar{X_1} = 190$ g** y una desviación estándar de **54 g**.\n",
    "\n",
    "Encuentra un **intervalo de confianza del 90% para la diferencia de medias** poblacionales:  $\\mu_1 - \\mu_2$, donde:\n",
    "\n",
    "- $\\mu_1$ es la media poblacional de incremento de peso en el grupo con **dosis baja**.\n",
    "- $\\mu_2$ es la media poblacional de incremento de peso en el grupo **control**.\n",
    "\n",
    "¿Sugiere este intervalo que el toxafen **reduce** el incremento de peso en ratas?  \n",
    "¿Incluye el intervalo el valor 0? ¿Por qué es importante?"
   ]
  },
  {
   "cell_type": "code",
   "execution_count": 31,
   "id": "04f78efb-da82-4c7d-9197-024cfcfca8bf",
   "metadata": {},
   "outputs": [
    {
     "name": "stdout",
     "output_type": "stream",
     "text": [
      "Fórmula: IC = (x̄₁ - x̄₂) ± t_(α/2, ν) * √(s₁²/n₁ + s₂²/n₂)\n",
      "IC 90% para μ₁ - μ₂: (-43.42, 3.42)\n",
      "¿Incluye el 0?: Sí\n",
      "Interpretación: El intervalo incluye el 0, por lo tanto no se puede concluir con certeza que el toxafen tenga efecto.\n"
     ]
    }
   ],
   "source": [
    "# Datos\n",
    "x1_bar = 190\n",
    "x2_bar = 210\n",
    "s1 = 54\n",
    "s2 = 32\n",
    "n1 = 20\n",
    "n2 = 23\n",
    "confianza = 0.90\n",
    "\n",
    "# Fórmula como string\n",
    "formula = r\"IC = (x̄₁ - x̄₂) ± t_(α/2, ν) * √(s₁²/n₁ + s₂²/n₂)\"\n",
    "print(\"Fórmula:\", formula)\n",
    "\n",
    "# Diferencia de medias\n",
    "diferencia = x1_bar - x2_bar\n",
    "\n",
    "# Error estándar\n",
    "se = np.sqrt((s1**2) / n1 + (s2**2) / n2)\n",
    "\n",
    "# Grados de libertad con fórmula de Welch\n",
    "num = ((s1**2 / n1) + (s2**2 / n2))**2\n",
    "den = ((s1**2 / n1)**2) / (n1 - 1) + ((s2**2 / n2)**2) / (n2 - 1)\n",
    "gl = num / den\n",
    "\n",
    "# Valor t\n",
    "from scipy.stats import t\n",
    "t_valor = t.ppf(1 - (1 - confianza)/2, df=gl)\n",
    "\n",
    "# Intervalo de confianza\n",
    "margen_error = t_valor * se\n",
    "lim_inf = diferencia - margen_error\n",
    "lim_sup = diferencia + margen_error\n",
    "\n",
    "print(f\"IC 90% para μ₁ - μ₂: ({lim_inf:.2f}, {lim_sup:.2f})\")\n",
    "\n",
    "# Interpretación\n",
    "if lim_sup < 0:\n",
    "    conclusion = \"Sí, el intervalo sugiere que el toxafen reduce el incremento de peso en ratas.\"\n",
    "elif lim_inf > 0:\n",
    "    conclusion = \"No, el toxafen parece aumentar el incremento de peso.\"\n",
    "else:\n",
    "    conclusion = \"El intervalo incluye el 0, por lo tanto no se puede concluir con certeza que el toxafen tenga efecto.\"\n",
    "\n",
    "print(\"¿Incluye el 0?:\", \"Sí\" if lim_inf <= 0 <= lim_sup else \"No\")\n",
    "print(\"Interpretación:\", conclusion)"
   ]
  },
  {
   "cell_type": "code",
   "execution_count": null,
   "id": "5ef882e6-4de0-4a5c-8fff-c2093ecb3ff8",
   "metadata": {},
   "outputs": [],
   "source": []
  }
 ],
 "metadata": {
  "kernelspec": {
   "display_name": "Python [conda env:base] *",
   "language": "python",
   "name": "conda-base-py"
  },
  "language_info": {
   "codemirror_mode": {
    "name": "ipython",
    "version": 3
   },
   "file_extension": ".py",
   "mimetype": "text/x-python",
   "name": "python",
   "nbconvert_exporter": "python",
   "pygments_lexer": "ipython3",
   "version": "3.12.7"
  }
 },
 "nbformat": 4,
 "nbformat_minor": 5
}

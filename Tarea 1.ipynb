{
 "cells": [
  {
   "cell_type": "markdown",
   "id": "2f27dd61",
   "metadata": {},
   "source": [
    "# Integrantes:  \n",
    "* Aldama Tyler Kenneth.  \n",
    "* Ávila Guzmán Cesar Enrique.  \n",
    "* Belmont Valderrama Alejandra.  \n",
    "* Bobadilla Muciño Carlos Alberto.   \n",
    "* Ramirez Romero Juan Carlos.\n"
   ]
  },
  {
   "cell_type": "markdown",
   "id": "ecaaf9d1-c6e4-4bc3-adcc-b8df20e7e3ba",
   "metadata": {},
   "source": [
    "## Ejericicio\n",
    "\n",
    "Se tienen $2$ urnas, cada una de las cuales contiene $10$ bolas numeradas del $1$ al $10$. \n",
    "\n",
    "Un experimento aleatorio consiste en seleccionar al azar una bola de cada urna. \n",
    "\n",
    "Sea $X$ la variable aleatoria que representa la diferencia de los números de las dos bolas seleccionadas.\n",
    "\n",
    "* Define $\\Omega$\n",
    "* Calcula las probabilidades asociadas\n",
    "* Define la función de densidad\n",
    "* Verifica que $\\sum_{x\\in R_X}f_X(x) = 1$\n",
    "* Gráfica la función de densidad\n",
    "\n",
    "Además, calcula la probabilidad de que los números de las dos bolas seleccionadas difieran por $2$ o más."
   ]
  },
  {
   "cell_type": "code",
   "execution_count": 48,
   "id": "c39bcae8",
   "metadata": {},
   "outputs": [],
   "source": [
    "# Definición del espacio muestral \n",
    "from itertools import product \n",
    "from fractions import Fraction \n",
    "from collections import defaultdict\n",
    "import pandas as pd\n",
    "import numpy as np\n",
    "\n",
    "#Espacio muestral\n",
    "espacio_muestral = set(product([1,2,3,4,5,6,7,8,9,10], repeat=2))\n",
    "\n",
    "#Cardinalidad\n",
    "cardinalidad= len (espacio_muestral)\n",
    "\n",
    "\n",
    "#Cálculo de diferencias\n",
    "def S(n):\n",
    "    Sn={(i,j) for i in range (1,11) for j in range (1,11) if abs(i-j)==n}\n",
    "    return Sn\n",
    "\n",
    "#Calculo de probabilidades \n",
    "def P(A):\n",
    "    P=Fraction(len(A), len (espacio_muestral))\n",
    "    return P\n",
    "\n",
    "#Diccionario \n",
    "S={(i,j): abs(i-j) for i,j in espacio_muestral}\n",
    "\n",
    "dS= defaultdict(set)\n",
    "\n",
    "for (i,j) in S.items(): \n",
    "    dS[j].add(i)\n",
    "\n",
    "list (dS.items())\n",
    "\n",
    "leyS={i: P(A) for i, A in dS.items()}\n",
    "ley_S= pd.Series(leyS)\n",
    "ley_S.sort_index()\n",
    "\n",
    "#Función de densidad \n",
    "def leyS(i):\n",
    "    if i in range (0,10):\n",
    "        x=ley_S[i]\n",
    "    else:\n",
    "        x=0 # Si no esta en el rango me devuelve 0\n",
    "    return x\n",
    "\n",
    "rango_S=[k for k in range(0,10)]\n",
    "p_k=[float(leyS(k)) for k in range (0,10)] \n",
    "lS= pd.DataFrame(list(zip(rango_S, p_k)), index=[f\"S_{i}\" for i in range (1,11)], columns= ['rango', 'densidad'] )\n",
    "\n",
    "Total= .10+.18+.16+.14+.12+.10+.08+.06+.04+.02\n"
   ]
  },
  {
   "cell_type": "code",
   "execution_count": 49,
   "id": "c2728c54",
   "metadata": {},
   "outputs": [
    {
     "name": "stdout",
     "output_type": "stream",
     "text": [
      "Espacio muestral= {(4, 9), (5, 1), (5, 10), (8, 9), (10, 6), (9, 8), (2, 2), (6, 2), (7, 1), (7, 10), (4, 2), (3, 6), (5, 3), (8, 2), (9, 1), (9, 10), (2, 4), (1, 8), (6, 4), (7, 3), (3, 8), (5, 5), (8, 4), (9, 3), (1, 10), (6, 6), (7, 5), (3, 1), (3, 10), (5, 7), (9, 5), (1, 3), (7, 7), (3, 3), (5, 9), (9, 7), (10, 8), (1, 5), (6, 1), (7, 9), (3, 5), (5, 2), (4, 4), (9, 9), (10, 1), (10, 10), (1, 7), (2, 6), (7, 2), (3, 7), (5, 4), (4, 6), (9, 2), (8, 6), (10, 3), (1, 9), (2, 8), (7, 4), (6, 8), (3, 9), (5, 6), (4, 8), (8, 8), (10, 5), (1, 2), (2, 1), (2, 10), (6, 10), (3, 2), (4, 1), (4, 10), (8, 1), (8, 10), (10, 7), (1, 4), (2, 3), (6, 3), (3, 4), (4, 3), (8, 3), (10, 9), (1, 6), (2, 5), (6, 5), (4, 5), (8, 5), (10, 2), (9, 4), (2, 7), (6, 7), (7, 6), (4, 7), (5, 8), (8, 7), (10, 4), (1, 1), (9, 6), (2, 9), (6, 9), (7, 8)}\n",
      "\n",
      "Cardinalidad= 100\n",
      "\n",
      "Porbabilidades= 0    1/10\n",
      "1    9/50\n",
      "2    4/25\n",
      "3    7/50\n",
      "4    3/25\n",
      "5    1/10\n",
      "6    2/25\n",
      "7    3/50\n",
      "8    1/25\n",
      "9    1/50\n",
      "dtype: object\n",
      "\n",
      "Función de densidad       rango  densidad\n",
      "S_1       0      0.10\n",
      "S_2       1      0.18\n",
      "S_3       2      0.16\n",
      "S_4       3      0.14\n",
      "S_5       4      0.12\n",
      "S_6       5      0.10\n",
      "S_7       6      0.08\n",
      "S_8       7      0.06\n",
      "S_9       8      0.04\n",
      "S_10      9      0.02\n",
      "\n",
      "Acumulada 1.0\n",
      "\n",
      "Probabilidad    X>-2 0.72\n"
     ]
    },
    {
     "data": {
      "image/png": "[encoded data removed]",
      "text/plain": [
       "<Figure size 432x288 with 1 Axes>"
      ]
     },
     "metadata": {
      "needs_background": "light"
     },
     "output_type": "display_data"
    }
   ],
   "source": [
    "print ('Espacio muestral=', espacio_muestral)\n",
    "print ('\\nCardinalidad=', cardinalidad)\n",
    "print ('\\nPorbabilidades=', ley_S.sort_index())\n",
    "print ('\\nFunción de densidad', lS)\n",
    "print ('\\nAcumulada', Total)\n",
    "lS.plot.bar('rango', 'densidad')\n",
    "print ('\\nProbabilidad    X>-2', 1-.1-.18)"
   ]
  }
 ],
 "metadata": {
  "kernelspec": {
   "display_name": "Python 3 (ipykernel)",
   "language": "python",
   "name": "python3"
  },
  "language_info": {
   "codemirror_mode": {
    "name": "ipython",
    "version": 3
   },
   "file_extension": ".py",
   "mimetype": "text/x-python",
   "name": "python",
   "nbconvert_exporter": "python",
   "pygments_lexer": "ipython3",
   "version": "3.9.12"
  }
 },
 "nbformat": 4,
 "nbformat_minor": 5
}
